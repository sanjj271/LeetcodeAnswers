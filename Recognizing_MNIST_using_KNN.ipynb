{
  "nbformat": 4,
  "nbformat_minor": 0,
  "metadata": {
    "colab": {
      "name": "Recognizing MNIST using KNN.ipynb",
      "provenance": [],
      "authorship_tag": "ABX9TyMJYih1GXwPfeUzYd54RNx8",
      "include_colab_link": true
    },
    "kernelspec": {
      "name": "python3",
      "display_name": "Python 3"
    },
    "language_info": {
      "name": "python"
    }
  },
  "cells": [
    {
      "cell_type": "markdown",
      "metadata": {
        "id": "view-in-github",
        "colab_type": "text"
      },
      "source": [
        "<a href=\"https://colab.research.google.com/github/sanjj271/LeetcodeAnswers/blob/main/Recognizing_MNIST_using_KNN.ipynb\" target=\"_parent\"><img src=\"https://colab.research.google.com/assets/colab-badge.svg\" alt=\"Open In Colab\"/></a>"
      ]
    },
    {
      "cell_type": "code",
      "metadata": {
        "id": "EGOW_2VjRIEi"
      },
      "source": [
        "import pandas as pd\n",
        "import numpy as np\n",
        "import matplotlib.pyplot as plt"
      ],
      "execution_count": 1,
      "outputs": []
    },
    {
      "cell_type": "code",
      "metadata": {
        "colab": {
          "base_uri": "https://localhost:8080/"
        },
        "id": "ZEKnxqz1Rd7P",
        "outputId": "eb109a25-2bcb-4ca1-b33b-d7428d473e8a"
      },
      "source": [
        "df=pd.read_csv(\"/content/sample_data/mnist_train_small.csv\")\n",
        "print(df.shape)\n",
        "print(df.head(n=5))\n",
        "#print(df.columns)\n"
      ],
      "execution_count": 2,
      "outputs": [
        {
          "output_type": "stream",
          "text": [
            "(19999, 785)\n",
            "   6  0  0.1  0.2  0.3  0.4  ...  0.585  0.586  0.587  0.588  0.589  0.590\n",
            "0  5  0    0    0    0    0  ...      0      0      0      0      0      0\n",
            "1  7  0    0    0    0    0  ...      0      0      0      0      0      0\n",
            "2  9  0    0    0    0    0  ...      0      0      0      0      0      0\n",
            "3  5  0    0    0    0    0  ...      0      0      0      0      0      0\n",
            "4  2  0    0    0    0    0  ...      0      0      0      0      0      0\n",
            "\n",
            "[5 rows x 785 columns]\n"
          ],
          "name": "stdout"
        }
      ]
    },
    {
      "cell_type": "code",
      "metadata": {
        "id": "OMKjoVtvSNAk",
        "colab": {
          "base_uri": "https://localhost:8080/"
        },
        "outputId": "28c8e72a-fc07-4039-f916-a4f0f8654655"
      },
      "source": [
        "print(df.head(n=5))\n",
        "data=df.values\n"
      ],
      "execution_count": 3,
      "outputs": [
        {
          "output_type": "stream",
          "text": [
            "   6  0  0.1  0.2  0.3  0.4  ...  0.585  0.586  0.587  0.588  0.589  0.590\n",
            "0  5  0    0    0    0    0  ...      0      0      0      0      0      0\n",
            "1  7  0    0    0    0    0  ...      0      0      0      0      0      0\n",
            "2  9  0    0    0    0    0  ...      0      0      0      0      0      0\n",
            "3  5  0    0    0    0    0  ...      0      0      0      0      0      0\n",
            "4  2  0    0    0    0    0  ...      0      0      0      0      0      0\n",
            "\n",
            "[5 rows x 785 columns]\n"
          ],
          "name": "stdout"
        }
      ]
    },
    {
      "cell_type": "code",
      "metadata": {
        "colab": {
          "base_uri": "https://localhost:8080/"
        },
        "id": "tyGWUF0aSPc7",
        "outputId": "8c654af3-0c24-4b99-b8cf-8a60b8f05752"
      },
      "source": [
        "X=data[:,1:]\n",
        "Y=data[:,0]\n",
        "print(X)\n",
        "print(X.shape)\n",
        "print(Y.shape)\n"
      ],
      "execution_count": 4,
      "outputs": [
        {
          "output_type": "stream",
          "text": [
            "[[0 0 0 ... 0 0 0]\n",
            " [0 0 0 ... 0 0 0]\n",
            " [0 0 0 ... 0 0 0]\n",
            " ...\n",
            " [0 0 0 ... 0 0 0]\n",
            " [0 0 0 ... 0 0 0]\n",
            " [0 0 0 ... 0 0 0]]\n",
            "(19999, 784)\n",
            "(19999,)\n"
          ],
          "name": "stdout"
        }
      ]
    },
    {
      "cell_type": "code",
      "metadata": {
        "colab": {
          "base_uri": "https://localhost:8080/"
        },
        "id": "p5Bbp8dEVyEm",
        "outputId": "416bf509-1a8a-4468-d13e-3025a3b8512e"
      },
      "source": [
        "split = int(0.8 * X.shape[0])\n",
        "X_train=X[:split,:]\n",
        "Y_train=Y[:split]\n",
        "\n",
        "X_test=X[split:,:]\n",
        "Y_test=Y[split:]\n",
        "\n",
        "print(X_train.shape,Y_train.shape)\n",
        "print(X_test.shape,Y_test.shape)\n"
      ],
      "execution_count": 5,
      "outputs": [
        {
          "output_type": "stream",
          "text": [
            "(15999, 784) (15999,)\n",
            "(4000, 784) (4000,)\n"
          ],
          "name": "stdout"
        }
      ]
    },
    {
      "cell_type": "code",
      "metadata": {
        "colab": {
          "base_uri": "https://localhost:8080/",
          "height": 282
        },
        "id": "2K7q2Kt8Yzmg",
        "outputId": "e46f7213-944d-4bca-f217-07b09aab3474"
      },
      "source": [
        "def drawimg(sample):\n",
        "  img= sample.reshape((28,28))\n",
        "  plt.imshow(img,cmap=\"gray\")\n",
        "  plt.show()\n",
        "drawimg(X_train[4])\n",
        "print(Y_train[4])"
      ],
      "execution_count": 6,
      "outputs": [
        {
          "output_type": "display_data",
          "data": {
            "image/png": "[encoded data removed]",
            "text/plain": [
              "<Figure size 432x288 with 1 Axes>"
            ]
          },
          "metadata": {
            "tags": [],
            "needs_background": "light"
          }
        },
        {
          "output_type": "stream",
          "text": [
            "2\n"
          ],
          "name": "stdout"
        }
      ]
    },
    {
      "cell_type": "markdown",
      "metadata": {
        "id": "vHgCd1yxZfNV"
      },
      "source": [
        "USING KNN\n"
      ]
    },
    {
      "cell_type": "code",
      "metadata": {
        "id": "asQlbkFGZhNn"
      },
      "source": [
        "def dist(x1,x2):\n",
        "  return np.sqrt(sum((x1-x2)**2))\n",
        "\n",
        "\n",
        "def KNN(X,Y,querypoint,k=5):\n",
        "  vals=[]\n",
        "  m=X.shape[0]\n",
        "\n",
        "\n",
        "  for i in range(m):\n",
        "    d=dist(querypoint,X[i])\n",
        "    vals.append((d,Y[i]))\n",
        "\n",
        "  vals=sorted(vals)\n",
        "  vals=vals[:k]\n",
        "    \n",
        "  vals=np.array(vals)\n",
        "  \n",
        "\n",
        "  new_vals = np.unique(vals[:,-1],return_counts=True)\n",
        "  \n",
        "\n",
        "  index=new_vals[1].argmax()\n",
        "  pred=new_vals[0][index]\n",
        "\n",
        "  return pred\n"
      ],
      "execution_count": 26,
      "outputs": []
    },
    {
      "cell_type": "markdown",
      "metadata": {
        "id": "7efyrKQQiqux"
      },
      "source": [
        "MAKE PREDICTIONS\n",
        "\n"
      ]
    },
    {
      "cell_type": "code",
      "metadata": {
        "colab": {
          "base_uri": "https://localhost:8080/"
        },
        "id": "7ysPFtLVshfD",
        "outputId": "54ab38d1-df93-495f-ecf3-6c98117604bd"
      },
      "source": [
        "pred=KNN(X_train,Y_train,X_test[90])\n",
        "print(int(pred))"
      ],
      "execution_count": 27,
      "outputs": [
        {
          "output_type": "stream",
          "text": [
            "4\n"
          ],
          "name": "stdout"
        }
      ]
    },
    {
      "cell_type": "code",
      "metadata": {
        "colab": {
          "base_uri": "https://localhost:8080/",
          "height": 282
        },
        "id": "s_GyP3yjstN4",
        "outputId": "79964656-879e-44c8-f5fc-a60e3c4112ed"
      },
      "source": [
        "drawimg(X_test[90])\n",
        "print(Y_test[90])"
      ],
      "execution_count": 28,
      "outputs": [
        {
          "output_type": "display_data",
          "data": {
            "image/png": "[encoded data removed]",
            "text/plain": [
              "<Figure size 432x288 with 1 Axes>"
            ]
          },
          "metadata": {
            "tags": [],
            "needs_background": "light"
          }
        },
        {
          "output_type": "stream",
          "text": [
            "4\n"
          ],
          "name": "stdout"
        }
      ]
    }
  ]
}